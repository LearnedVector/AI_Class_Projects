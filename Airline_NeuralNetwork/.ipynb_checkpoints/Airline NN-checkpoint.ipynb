{
 "cells": [
  {
   "cell_type": "code",
   "execution_count": 41,
   "metadata": {
    "collapsed": true
   },
   "outputs": [],
   "source": [
    "import pandas as pd\n",
    "import numpy as np\n",
    "from sklearn.model_selection import train_test_split"
   ]
  },
  {
   "cell_type": "code",
   "execution_count": 42,
   "metadata": {
    "collapsed": false
   },
   "outputs": [
    {
     "data": {
      "text/html": [
       "<div>\n",
       "<table border=\"1\" class=\"dataframe\">\n",
       "  <thead>\n",
       "    <tr style=\"text-align: right;\">\n",
       "      <th></th>\n",
       "      <th># of Delays.Carrier</th>\n",
       "      <th># of Delays.Late Aircraft</th>\n",
       "      <th># of Delays.National Aviation System</th>\n",
       "      <th># of Delays.Security</th>\n",
       "      <th># of Delays.Weather</th>\n",
       "      <th>Cancelled</th>\n",
       "      <th>Carriers.Total</th>\n",
       "      <th>Code</th>\n",
       "      <th>Delayed</th>\n",
       "      <th>Diverted</th>\n",
       "      <th>...</th>\n",
       "      <th>Minutes Delayed.Late Aircraft</th>\n",
       "      <th>Minutes Delayed.National Aviation System</th>\n",
       "      <th>Minutes Delayed.Security</th>\n",
       "      <th>Minutes Delayed.Total</th>\n",
       "      <th>Minutes Delayed.Weather</th>\n",
       "      <th>Month</th>\n",
       "      <th>Month Name</th>\n",
       "      <th>Name</th>\n",
       "      <th>On Time</th>\n",
       "      <th>Year</th>\n",
       "    </tr>\n",
       "  </thead>\n",
       "  <tbody>\n",
       "    <tr>\n",
       "      <th>0</th>\n",
       "      <td>1009</td>\n",
       "      <td>1275</td>\n",
       "      <td>3217</td>\n",
       "      <td>17</td>\n",
       "      <td>328</td>\n",
       "      <td>216</td>\n",
       "      <td>11</td>\n",
       "      <td>ATL</td>\n",
       "      <td>5843</td>\n",
       "      <td>27</td>\n",
       "      <td>...</td>\n",
       "      <td>68335</td>\n",
       "      <td>118831</td>\n",
       "      <td>518</td>\n",
       "      <td>268764</td>\n",
       "      <td>19474</td>\n",
       "      <td>6</td>\n",
       "      <td>June</td>\n",
       "      <td>Atlanta, GA: Hartsfield-Jackson Atlanta Intern...</td>\n",
       "      <td>23974</td>\n",
       "      <td>2003</td>\n",
       "    </tr>\n",
       "    <tr>\n",
       "      <th>1</th>\n",
       "      <td>374</td>\n",
       "      <td>495</td>\n",
       "      <td>685</td>\n",
       "      <td>3</td>\n",
       "      <td>66</td>\n",
       "      <td>138</td>\n",
       "      <td>14</td>\n",
       "      <td>BOS</td>\n",
       "      <td>1623</td>\n",
       "      <td>3</td>\n",
       "      <td>...</td>\n",
       "      <td>28189</td>\n",
       "      <td>24400</td>\n",
       "      <td>99</td>\n",
       "      <td>77167</td>\n",
       "      <td>4160</td>\n",
       "      <td>6</td>\n",
       "      <td>June</td>\n",
       "      <td>Boston, MA: Logan International</td>\n",
       "      <td>7875</td>\n",
       "      <td>2003</td>\n",
       "    </tr>\n",
       "    <tr>\n",
       "      <th>2</th>\n",
       "      <td>296</td>\n",
       "      <td>477</td>\n",
       "      <td>389</td>\n",
       "      <td>8</td>\n",
       "      <td>78</td>\n",
       "      <td>29</td>\n",
       "      <td>11</td>\n",
       "      <td>BWI</td>\n",
       "      <td>1245</td>\n",
       "      <td>15</td>\n",
       "      <td>...</td>\n",
       "      <td>26810</td>\n",
       "      <td>17556</td>\n",
       "      <td>278</td>\n",
       "      <td>64480</td>\n",
       "      <td>6201</td>\n",
       "      <td>6</td>\n",
       "      <td>June</td>\n",
       "      <td>Baltimore, MD: Baltimore/Washington Internatio...</td>\n",
       "      <td>6998</td>\n",
       "      <td>2003</td>\n",
       "    </tr>\n",
       "    <tr>\n",
       "      <th>3</th>\n",
       "      <td>300</td>\n",
       "      <td>472</td>\n",
       "      <td>735</td>\n",
       "      <td>2</td>\n",
       "      <td>54</td>\n",
       "      <td>73</td>\n",
       "      <td>11</td>\n",
       "      <td>CLT</td>\n",
       "      <td>1562</td>\n",
       "      <td>14</td>\n",
       "      <td>...</td>\n",
       "      <td>23379</td>\n",
       "      <td>23804</td>\n",
       "      <td>127</td>\n",
       "      <td>65865</td>\n",
       "      <td>3792</td>\n",
       "      <td>6</td>\n",
       "      <td>June</td>\n",
       "      <td>Charlotte, NC: Charlotte Douglas International</td>\n",
       "      <td>7021</td>\n",
       "      <td>2003</td>\n",
       "    </tr>\n",
       "    <tr>\n",
       "      <th>4</th>\n",
       "      <td>283</td>\n",
       "      <td>268</td>\n",
       "      <td>487</td>\n",
       "      <td>4</td>\n",
       "      <td>58</td>\n",
       "      <td>74</td>\n",
       "      <td>13</td>\n",
       "      <td>DCA</td>\n",
       "      <td>1100</td>\n",
       "      <td>18</td>\n",
       "      <td>...</td>\n",
       "      <td>13712</td>\n",
       "      <td>20999</td>\n",
       "      <td>120</td>\n",
       "      <td>52747</td>\n",
       "      <td>4141</td>\n",
       "      <td>6</td>\n",
       "      <td>June</td>\n",
       "      <td>Washington, DC: Ronald Reagan Washington National</td>\n",
       "      <td>5321</td>\n",
       "      <td>2003</td>\n",
       "    </tr>\n",
       "  </tbody>\n",
       "</table>\n",
       "<p>5 rows × 23 columns</p>\n",
       "</div>"
      ],
      "text/plain": [
       "   # of Delays.Carrier  # of Delays.Late Aircraft  \\\n",
       "0                 1009                       1275   \n",
       "1                  374                        495   \n",
       "2                  296                        477   \n",
       "3                  300                        472   \n",
       "4                  283                        268   \n",
       "\n",
       "   # of Delays.National Aviation System  # of Delays.Security  \\\n",
       "0                                  3217                    17   \n",
       "1                                   685                     3   \n",
       "2                                   389                     8   \n",
       "3                                   735                     2   \n",
       "4                                   487                     4   \n",
       "\n",
       "   # of Delays.Weather  Cancelled  Carriers.Total Code  Delayed  Diverted  \\\n",
       "0                  328        216              11  ATL     5843        27   \n",
       "1                   66        138              14  BOS     1623         3   \n",
       "2                   78         29              11  BWI     1245        15   \n",
       "3                   54         73              11  CLT     1562        14   \n",
       "4                   58         74              13  DCA     1100        18   \n",
       "\n",
       "   ...   Minutes Delayed.Late Aircraft  \\\n",
       "0  ...                           68335   \n",
       "1  ...                           28189   \n",
       "2  ...                           26810   \n",
       "3  ...                           23379   \n",
       "4  ...                           13712   \n",
       "\n",
       "  Minutes Delayed.National Aviation System  Minutes Delayed.Security  \\\n",
       "0                                   118831                       518   \n",
       "1                                    24400                        99   \n",
       "2                                    17556                       278   \n",
       "3                                    23804                       127   \n",
       "4                                    20999                       120   \n",
       "\n",
       "   Minutes Delayed.Total  Minutes Delayed.Weather  Month  Month Name  \\\n",
       "0                 268764                    19474      6        June   \n",
       "1                  77167                     4160      6        June   \n",
       "2                  64480                     6201      6        June   \n",
       "3                  65865                     3792      6        June   \n",
       "4                  52747                     4141      6        June   \n",
       "\n",
       "                                                Name  On Time  Year  \n",
       "0  Atlanta, GA: Hartsfield-Jackson Atlanta Intern...    23974  2003  \n",
       "1                    Boston, MA: Logan International     7875  2003  \n",
       "2  Baltimore, MD: Baltimore/Washington Internatio...     6998  2003  \n",
       "3     Charlotte, NC: Charlotte Douglas International     7021  2003  \n",
       "4  Washington, DC: Ronald Reagan Washington National     5321  2003  \n",
       "\n",
       "[5 rows x 23 columns]"
      ]
     },
     "execution_count": 42,
     "metadata": {},
     "output_type": "execute_result"
    }
   ],
   "source": [
    "df = pd.read_csv('./airlines.csv')\n",
    "df.head()"
   ]
  },
  {
   "cell_type": "code",
   "execution_count": 43,
   "metadata": {
    "collapsed": false
   },
   "outputs": [],
   "source": [
    "Features = df.drop(['Code', 'Name', 'Month', 'Year', 'Month Name', 'Label'], axis=1)\n",
    "Labels = df[['Code']]"
   ]
  },
  {
   "cell_type": "code",
   "execution_count": 44,
   "metadata": {
    "collapsed": false
   },
   "outputs": [
    {
     "data": {
      "text/plain": [
       "['# of Delays.Carrier',\n",
       " '# of Delays.Late Aircraft',\n",
       " '# of Delays.National Aviation System',\n",
       " '# of Delays.Security',\n",
       " '# of Delays.Weather',\n",
       " 'Cancelled',\n",
       " 'Carriers.Total',\n",
       " 'Delayed',\n",
       " 'Diverted',\n",
       " 'Flights.Total',\n",
       " 'Minutes Delayed.Carrier',\n",
       " 'Minutes Delayed.Late Aircraft',\n",
       " 'Minutes Delayed.National Aviation System',\n",
       " 'Minutes Delayed.Security',\n",
       " 'Minutes Delayed.Total',\n",
       " 'Minutes Delayed.Weather',\n",
       " 'On Time']"
      ]
     },
     "execution_count": 44,
     "metadata": {},
     "output_type": "execute_result"
    }
   ],
   "source": [
    "list(Features)"
   ]
  },
  {
   "cell_type": "code",
   "execution_count": 45,
   "metadata": {
    "collapsed": false
   },
   "outputs": [
    {
     "data": {
      "text/plain": [
       "['Code']"
      ]
     },
     "execution_count": 45,
     "metadata": {},
     "output_type": "execute_result"
    }
   ],
   "source": [
    "list(Labels)"
   ]
  },
  {
   "cell_type": "code",
   "execution_count": 46,
   "metadata": {
    "collapsed": true
   },
   "outputs": [],
   "source": [
    "X_train, X_test = train_test_split(Features, test_size=0.2)"
   ]
  },
  {
   "cell_type": "code",
   "execution_count": 49,
   "metadata": {
    "collapsed": false
   },
   "outputs": [
    {
     "data": {
      "text/plain": [
       "(3526, 17)"
      ]
     },
     "execution_count": 49,
     "metadata": {},
     "output_type": "execute_result"
    }
   ],
   "source": [
    "X_train.shape"
   ]
  },
  {
   "cell_type": "code",
   "execution_count": null,
   "metadata": {
    "collapsed": true
   },
   "outputs": [],
   "source": []
  }
 ],
 "metadata": {
  "kernelspec": {
   "display_name": "Python 3",
   "language": "python",
   "name": "python3"
  },
  "language_info": {
   "codemirror_mode": {
    "name": "ipython",
    "version": 3
   },
   "file_extension": ".py",
   "mimetype": "text/x-python",
   "name": "python",
   "nbconvert_exporter": "python",
   "pygments_lexer": "ipython3",
   "version": "3.5.2"
  }
 },
 "nbformat": 4,
 "nbformat_minor": 2
}
